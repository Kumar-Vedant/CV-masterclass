{
 "cells": [
  {
   "cell_type": "code",
   "execution_count": 3,
   "metadata": {},
   "outputs": [],
   "source": [
    "import cv2"
   ]
  },
  {
   "cell_type": "code",
   "execution_count": 46,
   "metadata": {},
   "outputs": [],
   "source": [
    "# load the image\n",
    "img = cv2.imread(\"Computer Vision Masterclass/Images/people1.jpg\")"
   ]
  },
  {
   "cell_type": "code",
   "execution_count": 34,
   "metadata": {},
   "outputs": [],
   "source": [
    "# display the image\n",
    "cv2.imshow(\"people\", img)\n",
    "cv2.waitKey(0)\n",
    "cv2.destroyAllWindows()"
   ]
  },
  {
   "cell_type": "code",
   "execution_count": 35,
   "metadata": {},
   "outputs": [
    {
     "data": {
      "text/plain": [
       "(1280, 1920, 3)"
      ]
     },
     "execution_count": 35,
     "metadata": {},
     "output_type": "execute_result"
    }
   ],
   "source": [
    "img.shape"
   ]
  },
  {
   "cell_type": "code",
   "execution_count": 47,
   "metadata": {},
   "outputs": [
    {
     "data": {
      "text/plain": [
       "(600, 800, 3)"
      ]
     },
     "execution_count": 47,
     "metadata": {},
     "output_type": "execute_result"
    }
   ],
   "source": [
    "img = cv2.resize(img, (800, 600))\n",
    "img.shape"
   ]
  },
  {
   "cell_type": "code",
   "execution_count": 48,
   "metadata": {},
   "outputs": [
    {
     "data": {
      "text/plain": [
       "(600, 800)"
      ]
     },
     "execution_count": 48,
     "metadata": {},
     "output_type": "execute_result"
    }
   ],
   "source": [
    "img_gray = cv2.cvtColor(img, cv2.COLOR_BGR2GRAY)\n",
    "img_gray.shape"
   ]
  },
  {
   "cell_type": "code",
   "execution_count": 38,
   "metadata": {},
   "outputs": [],
   "source": [
    "cv2.imshow(\"people\", img)\n",
    "cv2.imshow(\"people_grayscale\", img_gray)\n",
    "cv2.waitKey(0)\n",
    "cv2.destroyAllWindows()"
   ]
  },
  {
   "cell_type": "code",
   "execution_count": 39,
   "metadata": {},
   "outputs": [],
   "source": [
    "face_detector = cv2.CascadeClassifier(\"Computer Vision Masterclass/Cascades/haarcascade_frontalface_default.xml\")"
   ]
  },
  {
   "cell_type": "code",
   "execution_count": 40,
   "metadata": {},
   "outputs": [],
   "source": [
    "detections = face_detector.detectMultiScale(img_gray)"
   ]
  },
  {
   "cell_type": "code",
   "execution_count": 41,
   "metadata": {},
   "outputs": [
    {
     "data": {
      "text/plain": [
       "array([[390, 323,  56,  56],\n",
       "       [387, 233,  73,  73],\n",
       "       [ 92, 239,  66,  66],\n",
       "       [115, 124,  53,  53],\n",
       "       [677,  72,  68,  68],\n",
       "       [475, 123,  59,  59]])"
      ]
     },
     "execution_count": 41,
     "metadata": {},
     "output_type": "execute_result"
    }
   ],
   "source": [
    "detections"
   ]
  },
  {
   "cell_type": "code",
   "execution_count": 42,
   "metadata": {},
   "outputs": [
    {
     "name": "stdout",
     "output_type": "stream",
     "text": [
      "#no. of faces detected = 6\n"
     ]
    }
   ],
   "source": [
    "print(\"#no. of faces detected =\", len(detections))"
   ]
  },
  {
   "cell_type": "code",
   "execution_count": 43,
   "metadata": {},
   "outputs": [],
   "source": [
    "# draw rectangles around each face detected\n",
    "for (x, y, w, h) in detections:\n",
    "    cv2.rectangle(img, (x,y), (x+w,y+h), (0, 255, 0), 1)\n",
    "cv2.imshow(\"faces_detected\", img)\n",
    "cv2.waitKey(0)\n",
    "cv2.destroyAllWindows()"
   ]
  },
  {
   "cell_type": "code",
   "execution_count": 55,
   "metadata": {},
   "outputs": [
    {
     "name": "stdout",
     "output_type": "stream",
     "text": [
      "5\n"
     ]
    }
   ],
   "source": [
    "img = cv2.imread(\"Computer Vision Masterclass/Images/people1.jpg\")\n",
    "img = cv2.resize(img, (800, 600))\n",
    "img_gray = cv2.cvtColor(img, cv2.COLOR_BGR2GRAY)\n",
    "\n",
    "detections = face_detector.detectMultiScale(img_gray, scaleFactor=1.09)\n",
    "print(len(detections))\n",
    "for (x, y, w, h) in detections:\n",
    "    cv2.rectangle(img, (x,y), (x+w,y+h), (0, 255, 0), 2)\n",
    "cv2.imshow(\"faces_detected\", img.copy())\n",
    "cv2.waitKey(0)\n",
    "cv2.destroyAllWindows()"
   ]
  },
  {
   "cell_type": "code",
   "execution_count": 63,
   "metadata": {},
   "outputs": [
    {
     "name": "stdout",
     "output_type": "stream",
     "text": [
      "5\n"
     ]
    }
   ],
   "source": [
    "img = cv2.imread(\"Computer Vision Masterclass/IMG_20220520_231524.jpg\")\n",
    "img = cv2.resize(img, (800, 600))\n",
    "img_gray = cv2.cvtColor(img, cv2.COLOR_BGR2GRAY)\n",
    "\n",
    "detections = face_detector.detectMultiScale(img_gray, scaleFactor=1.1, maxSize=(70, 70))\n",
    "print(len(detections))\n",
    "for (x, y, w, h) in detections:\n",
    "    cv2.rectangle(img, (x,y), (x+w,y+h), (0, 255, 0), 2)\n",
    "cv2.imshow(\"faces_detected\", img)\n",
    "cv2.waitKey(0)\n",
    "cv2.destroyAllWindows()"
   ]
  },
  {
   "cell_type": "code",
   "execution_count": 74,
   "metadata": {},
   "outputs": [
    {
     "name": "stdout",
     "output_type": "stream",
     "text": [
      "12\n",
      "51 51\n",
      "47 47\n",
      "47 47\n",
      "49 49\n",
      "52 52\n",
      "51 51\n",
      "50 50\n",
      "47 47\n",
      "49 49\n",
      "47 47\n",
      "44 44\n",
      "51 51\n"
     ]
    }
   ],
   "source": [
    "img = cv2.imread(\"Computer Vision Masterclass/Images/people2.jpg\")\n",
    "img_gray = cv2.cvtColor(img, cv2.COLOR_BGR2GRAY)\n",
    "\n",
    "detections = face_detector.detectMultiScale(img_gray, scaleFactor=1.2, minNeighbors=7, minSize=(30, 30))\n",
    "print(len(detections))\n",
    "for (x, y, w, h) in detections:\n",
    "    print(w, h)\n",
    "    cv2.rectangle(img, (x,y), (x+w,y+h), (0, 255, 0), 2)\n",
    "cv2.imshow(\"faces_detected\", img)\n",
    "cv2.waitKey(0)\n",
    "cv2.destroyAllWindows()"
   ]
  },
  {
   "cell_type": "markdown",
   "metadata": {},
   "source": [
    "Face detection using HOG"
   ]
  },
  {
   "cell_type": "code",
   "execution_count": 2,
   "metadata": {},
   "outputs": [],
   "source": [
    "import dlib"
   ]
  },
  {
   "cell_type": "code",
   "execution_count": 8,
   "metadata": {},
   "outputs": [
    {
     "name": "stdout",
     "output_type": "stream",
     "text": [
      "5\n"
     ]
    }
   ],
   "source": [
    "face_detector_hog = dlib.get_frontal_face_detector()\n",
    "\n",
    "img = cv2.imread(\"Computer Vision Masterclass/Images/people2.jpg\")\n",
    "detections = face_detector_hog(img, 1)\n",
    "print(len(detections))\n",
    "\n",
    "for face in detections:\n",
    "    l, t, r, b = face.left(), face.top(), face.right(), face.bottom()\n",
    "    cv2.rectangle(img, (l,t), (r,b), (0, 255, 0), 2)\n",
    "cv2.imshow(\"faces_detected\", img)\n",
    "cv2.waitKey(0)\n",
    "cv2.destroyAllWindows()"
   ]
  },
  {
   "cell_type": "code",
   "execution_count": 4,
   "metadata": {},
   "outputs": [
    {
     "name": "stdout",
     "output_type": "stream",
     "text": [
      "5\n"
     ]
    }
   ],
   "source": [
    "face_detector_hog = dlib.get_frontal_face_detector()\n",
    "\n",
    "img = cv2.imread(\"Computer Vision Masterclass/IMG_20220520_231524.jpg\")\n",
    "img = cv2.resize(img, (1024, 800))\n",
    "detections = face_detector_hog(img, 1)\n",
    "print(len(detections))\n",
    "\n",
    "for face in detections:\n",
    "    l, t, r, b = face.left(), face.top(), face.right(), face.bottom()\n",
    "    cv2.rectangle(img, (l,t), (r,b), (0, 255, 0), 2)\n",
    "cv2.imshow(\"faces_detected\", img)\n",
    "cv2.waitKey(0)\n",
    "cv2.destroyAllWindows()"
   ]
  },
  {
   "cell_type": "markdown",
   "metadata": {},
   "source": [
    "Face detection using CNN"
   ]
  },
  {
   "cell_type": "code",
   "execution_count": 5,
   "metadata": {},
   "outputs": [],
   "source": [
    "import cv2\n",
    "import dlib"
   ]
  },
  {
   "cell_type": "code",
   "execution_count": 6,
   "metadata": {},
   "outputs": [],
   "source": [
    "img = cv2.imread(\"Computer Vision Masterclass/Images/people2.jpg\")\n",
    "face_detector_cnn = dlib.cnn_face_detection_model_v1(\"Computer Vision Masterclass/Weights/mmod_human_face_detector.dat\")"
   ]
  },
  {
   "cell_type": "code",
   "execution_count": 7,
   "metadata": {},
   "outputs": [
    {
     "name": "stdout",
     "output_type": "stream",
     "text": [
      "1.1440682411193848\n",
      "1.137049913406372\n",
      "1.1278996467590332\n",
      "1.1200228929519653\n",
      "1.1149370670318604\n",
      "1.1131553649902344\n",
      "1.097571611404419\n",
      "1.0942120552062988\n",
      "1.085314154624939\n",
      "1.0801892280578613\n",
      "1.0800764560699463\n",
      "1.0784764289855957\n",
      "1.0664036273956299\n",
      "1.0641793012619019\n"
     ]
    }
   ],
   "source": [
    "detections = face_detector_cnn(img, 1)\n",
    "for face in detections:\n",
    "    l, t, r, b, c = face.rect.left(), face.rect.top(), face.rect.right(), face.rect.bottom(), face.confidence\n",
    "    print(c)\n",
    "    cv2.rectangle(img, (l, t), (r, b), (255, 255, 0), 2)\n",
    "cv2.imshow(\"faces_detected\", img)\n",
    "cv2.waitKey(0)\n",
    "cv2.destroyAllWindows()"
   ]
  },
  {
   "cell_type": "code",
   "execution_count": 1,
   "metadata": {},
   "outputs": [],
   "source": [
    "import cv2\n",
    "import dlib"
   ]
  },
  {
   "cell_type": "code",
   "execution_count": 3,
   "metadata": {},
   "outputs": [
    {
     "name": "stdout",
     "output_type": "stream",
     "text": [
      "0\n"
     ]
    }
   ],
   "source": [
    "img = cv2.imread(\"Computer Vision Masterclass/Images/people3.jpg\")\n",
    "face_detector = cv2.CascadeClassifier(\"Computer Vision Masterclass/Cascades/haarcascade_frontalface_default.xml\")\n",
    "face_detector_hog = dlib.get_frontal_face_detector()\n",
    "face_detector_cnn = dlib.cnn_face_detection_model_v1(\"Computer Vision Masterclass/Weights/mmod_human_face_detector.dat\")\n",
    "\n",
    "# Haar Cascades\n",
    "detections = face_detector.detectMultiScale(img)\n",
    "\n",
    "for (x, y, w, h) in detections:\n",
    "    print(w, h)\n",
    "    cv2.rectangle(img, (x,y), (x+w,y+h), (0, 255, 0), 2)\n",
    "# cv2.imshow(\"faces_detected_haar\", img)\n",
    "# cv2.waitKey(0)\n",
    "# cv2.destroyAllWindows()\n",
    "\n",
    "# HOG\n",
    "detections = face_detector_hog(img, 2)\n",
    "print(len(detections))\n",
    "\n",
    "for face in detections:\n",
    "    l, t, r, b = face.left(), face.top(), face.right(), face.bottom()\n",
    "    cv2.rectangle(img, (l,t), (r,b), (0, 0, 255), 2)\n",
    "# cv2.imshow(\"faces_detected_hog\", img)\n",
    "# cv2.waitKey(0)\n",
    "# cv2.destroyAllWindows()\n",
    "\n",
    "# CNN\n",
    "detections = face_detector_cnn(img, 2)\n",
    "for face in detections:\n",
    "    l, t, r, b, c = face.rect.left(), face.rect.top(), face.rect.right(), face.rect.bottom(), face.confidence\n",
    "    print(c)\n",
    "    cv2.rectangle(img, (l, t), (r, b), (255, 255, 0), 2)\n",
    "cv2.imshow(\"faces_detected_cnn\", img)\n",
    "cv2.waitKey(0)\n",
    "cv2.destroyAllWindows()"
   ]
  },
  {
   "cell_type": "code",
   "execution_count": null,
   "metadata": {},
   "outputs": [],
   "source": []
  }
 ],
 "metadata": {
  "kernelspec": {
   "display_name": "Python 3",
   "language": "python",
   "name": "python3"
  },
  "language_info": {
   "codemirror_mode": {
    "name": "ipython",
    "version": 3
   },
   "file_extension": ".py",
   "mimetype": "text/x-python",
   "name": "python",
   "nbconvert_exporter": "python",
   "pygments_lexer": "ipython3",
   "version": "3.11.9"
  }
 },
 "nbformat": 4,
 "nbformat_minor": 2
}
